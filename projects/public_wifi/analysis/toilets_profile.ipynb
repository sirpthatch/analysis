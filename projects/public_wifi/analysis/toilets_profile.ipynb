{
 "cells": [
  {
   "cell_type": "markdown",
   "metadata": {},
   "source": [
    "# Public Parks Toilets Data Profile\n",
    "\n",
    "This notebook provides a comprehensive profile of the directory of toilets in public parks dataset."
   ]
  },
  {
   "cell_type": "code",
   "execution_count": null,
   "metadata": {},
   "outputs": [],
   "source": [
    "import pandas as pd\n",
    "import numpy as np\n",
    "import matplotlib.pyplot as plt\n",
    "import seaborn as sns\n",
    "from collections import Counter\n",
    "import warnings\n",
    "warnings.filterwarnings('ignore')\n",
    "\n",
    "# Set style for better plots\n",
    "plt.style.use('default')\n",
    "sns.set_palette('husl')"
   ]
  },
  {
   "cell_type": "code",
   "execution_count": null,
   "metadata": {},
   "outputs": [],
   "source": [
    "# Load the dataset\n",
    "df = pd.read_csv('data/directory_of_toilets_in_public_parks_20250923.csv')\n",
    "\n",
    "print(f\"Dataset loaded successfully!\")\n",
    "print(f\"Shape: {df.shape}\")\n",
    "print(f\"Columns: {list(df.columns)}\")"
   ]
  },
  {
   "cell_type": "markdown",
   "metadata": {},
   "source": [
    "## Dataset Overview"
   ]
  },
  {
   "cell_type": "code",
   "execution_count": null,
   "metadata": {},
   "outputs": [],
   "source": [
    "# Basic information about the dataset\n",
    "print(\"=== DATASET INFO ===\")\n",
    "print(f\"Number of rows: {len(df)}\")\n",
    "print(f\"Number of columns: {len(df.columns)}\")\n",
    "print(f\"\\nColumn names and types:\")\n",
    "print(df.dtypes)\n",
    "print(f\"\\nMemory usage: {df.memory_usage().sum() / 1024:.2f} KB\")"
   ]
  },
  {
   "cell_type": "code",
   "execution_count": null,
   "metadata": {},
   "outputs": [],
   "source": [
    "# Display first few rows\n",
    "print(\"=== FIRST 5 ROWS ===\")\n",
    "display(df.head())"
   ]
  },
  {
   "cell_type": "code",
   "execution_count": null,
   "metadata": {},
   "outputs": [],
   "source": [
    "# Check for missing values\n",
    "print(\"=== MISSING VALUES ===\")\n",
    "missing_data = df.isnull().sum()\n",
    "missing_percent = (missing_data / len(df)) * 100\n",
    "missing_df = pd.DataFrame({\n",
    "    'Column': missing_data.index,\n",
    "    'Missing Count': missing_data.values,\n",
    "    'Missing Percentage': missing_percent.values\n",
    "})\n",
    "display(missing_df[missing_df['Missing Count'] > 0])"
   ]
  },
  {
   "cell_type": "markdown",
   "metadata": {},
   "source": [
    "## Data Quality Analysis"
   ]
  },
  {
   "cell_type": "code",
   "execution_count": null,
   "metadata": {},
   "outputs": [],
   "source": [
    "# Check for duplicate records\n",
    "print(\"=== DUPLICATE ANALYSIS ===\")\n",
    "print(f\"Total duplicate rows: {df.duplicated().sum()}\")\n",
    "print(f\"Duplicate names: {df['Name'].duplicated().sum()}\")\n",
    "if df.duplicated().sum() > 0:\n",
    "    print(\"\\nDuplicate rows:\")\n",
    "    display(df[df.duplicated()])"
   ]
  },
  {
   "cell_type": "code",
   "execution_count": null,
   "metadata": {},
   "outputs": [],
   "source": [
    "# Analyze categorical columns\n",
    "print(\"=== CATEGORICAL COLUMN ANALYSIS ===\")\n",
    "categorical_cols = ['Open Year-Round', 'Handicap Accessible', 'Borough']\n",
    "\n",
    "for col in categorical_cols:\n",
    "    if col in df.columns:\n",
    "        print(f\"\\n{col}:\")\n",
    "        print(df[col].value_counts(dropna=False))\n",
    "        print(f\"Unique values: {df[col].nunique()}\")"
   ]
  },
  {
   "cell_type": "markdown",
   "metadata": {},
   "source": [
    "## Statistical Summary"
   ]
  },
  {
   "cell_type": "code",
   "execution_count": null,
   "metadata": {},
   "outputs": [],
   "source": [
    "# String length analysis for text columns\n",
    "print(\"=== TEXT COLUMN STATISTICS ===\")\n",
    "text_cols = ['Name', 'Location', 'Comments']\n",
    "\n",
    "for col in text_cols:\n",
    "    if col in df.columns:\n",
    "        lengths = df[col].astype(str).str.len()\n",
    "        print(f\"\\n{col} length statistics:\")\n",
    "        print(f\"  Mean: {lengths.mean():.2f}\")\n",
    "        print(f\"  Min: {lengths.min()}\")\n",
    "        print(f\"  Max: {lengths.max()}\")\n",
    "        print(f\"  Median: {lengths.median():.2f}\")"
   ]
  },
  {
   "cell_type": "markdown",
   "metadata": {},
   "source": [
    "## Data Visualizations"
   ]
  },
  {
   "cell_type": "code",
   "execution_count": null,
   "metadata": {},
   "outputs": [],
   "source": [
    "# Borough distribution\n",
    "fig, axes = plt.subplots(2, 2, figsize=(15, 12))\n",
    "\n",
    "# Borough distribution\n",
    "if 'Borough' in df.columns:\n",
    "    borough_counts = df['Borough'].value_counts()\n",
    "    axes[0, 0].pie(borough_counts.values, labels=borough_counts.index, autopct='%1.1f%%')\n",
    "    axes[0, 0].set_title('Distribution by Borough')\n",
    "\n",
    "# Open year-round distribution\n",
    "if 'Open Year-Round' in df.columns:\n",
    "    open_counts = df['Open Year-Round'].value_counts()\n",
    "    axes[0, 1].bar(open_counts.index, open_counts.values)\n",
    "    axes[0, 1].set_title('Open Year-Round Distribution')\n",
    "    axes[0, 1].set_ylabel('Count')\n",
    "\n",
    "# Handicap accessibility\n",
    "if 'Handicap Accessible' in df.columns:\n",
    "    handicap_counts = df['Handicap Accessible'].value_counts(dropna=False)\n",
    "    axes[1, 0].bar(range(len(handicap_counts)), handicap_counts.values)\n",
    "    axes[1, 0].set_xticks(range(len(handicap_counts)))\n",
    "    axes[1, 0].set_xticklabels(handicap_counts.index, rotation=45)\n",
    "    axes[1, 0].set_title('Handicap Accessibility')\n",
    "    axes[1, 0].set_ylabel('Count')\n",
    "\n",
    "# Name length distribution\n",
    "name_lengths = df['Name'].astype(str).str.len()\n",
    "axes[1, 1].hist(name_lengths, bins=20, alpha=0.7)\n",
    "axes[1, 1].set_title('Distribution of Name Lengths')\n",
    "axes[1, 1].set_xlabel('Character Length')\n",
    "axes[1, 1].set_ylabel('Frequency')\n",
    "\n",
    "plt.tight_layout()\n",
    "plt.show()"
   ]
  },
  {
   "cell_type": "code",
   "execution_count": null,
   "metadata": {},
   "outputs": [],
   "source": [
    "# Cross-tabulation analysis\n",
    "print(\"=== CROSS-TABULATION ANALYSIS ===\")\n",
    "\n",
    "if 'Borough' in df.columns and 'Open Year-Round' in df.columns:\n",
    "    print(\"\\nBorough vs Open Year-Round:\")\n",
    "    crosstab1 = pd.crosstab(df['Borough'], df['Open Year-Round'], margins=True)\n",
    "    display(crosstab1)\n",
    "\n",
    "if 'Borough' in df.columns and 'Handicap Accessible' in df.columns:\n",
    "    print(\"\\nBorough vs Handicap Accessible:\")\n",
    "    crosstab2 = pd.crosstab(df['Borough'], df['Handicap Accessible'], margins=True, dropna=False)\n",
    "    display(crosstab2)"
   ]
  },
  {
   "cell_type": "markdown",
   "metadata": {},
   "source": [
    "## Data Quality Issues & Recommendations"
   ]
  },
  {
   "cell_type": "code",
   "execution_count": null,
   "metadata": {},
   "outputs": [],
   "source": [
    "print(\"=== DATA QUALITY SUMMARY ===\")\n",
    "print(\"\\n1. COMPLETENESS:\")\n",
    "for col in df.columns:\n",
    "    missing_pct = (df[col].isnull().sum() / len(df)) * 100\n",
    "    if missing_pct > 0:\n",
    "        print(f\"   - {col}: {missing_pct:.1f}% missing values\")\n",
    "\n",
    "print(\"\\n2. CONSISTENCY:\")\n",
    "if 'Open Year-Round' in df.columns:\n",
    "    unique_open = df['Open Year-Round'].unique()\n",
    "    print(f\"   - Open Year-Round values: {unique_open}\")\n",
    "if 'Handicap Accessible' in df.columns:\n",
    "    unique_handicap = df['Handicap Accessible'].dropna().unique()\n",
    "    print(f\"   - Handicap Accessible values: {unique_handicap}\")\n",
    "\n",
    "print(\"\\n3. DUPLICATES:\")\n",
    "print(f\"   - Duplicate rows: {df.duplicated().sum()}\")\n",
    "print(f\"   - Duplicate names: {df['Name'].duplicated().sum()}\")\n",
    "\n",
    "print(\"\\n4. RECOMMENDATIONS:\")\n",
    "recommendations = []\n",
    "if df['Handicap Accessible'].isnull().sum() > 0:\n",
    "    recommendations.append(\"Fill missing 'Handicap Accessible' values with 'Unknown' or investigate further\")\n",
    "if df.duplicated().sum() > 0:\n",
    "    recommendations.append(\"Review and remove duplicate records\")\n",
    "if df['Comments'].isnull().sum() > len(df) * 0.8:\n",
    "    recommendations.append(\"Comments column has many missing values - consider if it's necessary\")\n",
    "\n",
    "for i, rec in enumerate(recommendations, 1):\n",
    "    print(f\"   {i}. {rec}\")"
   ]
  }
 ],
 "metadata": {
  "kernelspec": {
   "display_name": "Python 3",
   "language": "python",
   "name": "python3"
  },
  "language_info": {
   "codemirror_mode": {
    "name": "ipython",
    "version": 3
   },
   "file_extension": ".py",
   "mimetype": "text/x-python",
   "name": "python",
   "nbconvert_exporter": "python",
   "pygments_lexer": "ipython3",
   "version": "3.8.5"
  }
 },
 "nbformat": 4,
 "nbformat_minor": 4
}
