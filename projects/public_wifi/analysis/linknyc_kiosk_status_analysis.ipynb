{
 "cells": [
  {
   "cell_type": "code",
   "source": "# Save FIPS-enhanced maps and generate summary report\nprint(\"Saving FIPS-enhanced maps...\")\n\n# Save FIPS-based maps\nif fips_data_loaded:\n    fips_map_path = os.path.join(output_dir, 'linknyc_fips_choropleth.html')\n    m_fips.save(fips_map_path)\n    print(f\"✓ FIPS county choropleth saved: {fips_map_path}\")\n\ncomprehensive_map_path = os.path.join(output_dir, 'linknyc_comprehensive_fips_map.html')\nm_comprehensive.save(comprehensive_map_path)\nprint(f\"✓ Comprehensive FIPS map saved: {comprehensive_map_path}\")\n\n# Create FIPS mapping summary\nprint(\"\\n\" + \"=\"*70)\nprint(\"FIPS-ENHANCED CHOROPLETH MAPPING SUMMARY\")\nprint(\"=\"*70)\n\nprint(\"\\n🗺️  GEOGRAPHIC STANDARDS IMPLEMENTED:\")\nprint(\"─\" * 50)\nprint(\"• Official FIPS county codes for NYC boroughs\")\nprint(\"• Census Bureau 2021 cartographic boundaries\")\nprint(\"• ZIP Code Tabulation Areas (ZCTA) integration\")\nprint(\"• Standardized geographic referencing system\")\n\nif fips_data_loaded:\n    print(\"\\n📍 FIPS COUNTY MAPPING:\")\n    print(\"─\" * 30)\n    for _, county in nyc_counties_with_data.iterrows():\n        print(f\"• {county['BOROUGH']:<15} → FIPS {county['GEOID']} ({county['NAME']} County)\")\n        print(f\"  {county['total_kiosks']:>3} kiosks, {county['live_percentage']:>5.1f}% operational\")\n\nif zcta_data_loaded:\n    print(f\"\\n📮 ZIP CODE ANALYSIS:\")\n    print(\"─\" * 25)\n    print(f\"• {len(nyc_zctas)} ZIP codes identified in NYC area\")\n    if zip_data_available:\n        print(f\"• {len(zip_stats)} ZIP codes contain LinkNYC kiosks\")\n        print(\"• Top ZIP codes by kiosk density integrated\")\n    else:\n        print(\"• ZIP code kiosk data not available in dataset\")\n\nprint(f\"\\n🎯 MAPPING FEATURES:\")\nprint(\"─\" * 20)\nprint(\"• Multi-scale geographic analysis (County + ZIP)\")\nprint(\"• Interactive layer controls and toggles\")\nprint(\"• Official Census boundary precision\")\nprint(\"• Status-coded kiosk point markers\")\nprint(\"• Comprehensive popup information\")\nprint(\"• Professional cartographic styling\")\n\nprint(f\"\\n📂 FILES GENERATED:\")\nprint(\"─\" * 20)\nfile_list = []\nif fips_data_loaded:\n    file_list.append(\"linknyc_fips_choropleth.html - County-level FIPS choropleth\")\nfile_list.append(\"linknyc_comprehensive_fips_map.html - Multi-layer FIPS dashboard\")\n\nfor i, file_desc in enumerate(file_list, 1):\n    print(f\"{i}. {file_desc}\")\n\nprint(f\"\\n✅ FIPS integration complete! The choropleth now uses:\")\nprint(\"   • Standardized FIPS county codes\")  \nprint(\"   • Official Census Bureau boundaries\")\nprint(\"   • Multi-level geographic precision\")\nprint(\"   • Professional cartographic standards\")",
   "metadata": {},
   "execution_count": null,
   "outputs": []
  },
  {
   "cell_type": "markdown",
   "source": "## Export FIPS-Enhanced Maps",
   "metadata": {}
  },
  {
   "cell_type": "code",
   "source": "# Create comprehensive FIPS-based mapping dashboard\nprint(\"Creating comprehensive FIPS mapping dashboard...\")\n\n# Create a multi-layer map with both county and ZIP code boundaries\nm_comprehensive = folium.Map(\n    location=nyc_center,\n    zoom_start=10,\n    tiles='CartoDB positron'\n)\n\n# Add multiple base map options\nfolium.TileLayer('OpenStreetMap').add_to(m_comprehensive)\nfolium.TileLayer('CartoDB dark_matter', name='Dark Mode').add_to(m_comprehensive)\n\nif fips_data_loaded:\n    # County-level choropleth layer\n    county_layer = folium.FeatureGroup(name='County Boundaries (FIPS)', show=True)\n    \n    folium.Choropleth(\n        geo_data=nyc_counties_json,\n        data=borough_data_fips,\n        columns=['GEOID', 'total_kiosks'],\n        key_on='feature.properties.GEOID',\n        fill_color='Blues',\n        fill_opacity=0.4,\n        line_opacity=0.8,\n        line_color='navy',\n        line_weight=3,\n        legend_name='Kiosks per County (FIPS)'\n    ).add_to(county_layer)\n    \n    county_layer.add_to(m_comprehensive)\n\n# Add ZIP code boundaries if available\nif zcta_data_loaded and zip_data_available:\n    zip_layer = folium.FeatureGroup(name='ZIP Code Boundaries', show=False)\n    \n    # Merge ZIP stats with ZCTA boundaries\n    nyc_zctas_with_data = nyc_zctas.merge(\n        zip_stats.reset_index().rename(columns={zip_col: 'ZCTA5CE20'}),\n        on='ZCTA5CE20',\n        how='left'\n    )\n    \n    # Fill NaN values for ZIPs without kiosks\n    nyc_zctas_with_data['total_kiosks'] = nyc_zctas_with_data['total_kiosks'].fillna(0)\n    nyc_zctas_with_data['live_kiosks'] = nyc_zctas_with_data['live_kiosks'].fillna(0)\n    \n    # Create ZIP code choropleth\n    zip_json = nyc_zctas_with_data.to_crs('EPSG:4326').__geo_interface__\n    \n    folium.Choropleth(\n        geo_data=zip_json,\n        data=nyc_zctas_with_data,\n        columns=['ZCTA5CE20', 'total_kiosks'],\n        key_on='feature.properties.ZCTA5CE20',\n        fill_color='Reds',\n        fill_opacity=0.6,\n        line_opacity=0.5,\n        line_color='darkred',\n        line_weight=1,\n        legend_name='Kiosks per ZIP Code'\n    ).add_to(zip_layer)\n    \n    zip_layer.add_to(m_comprehensive)\n\n# Add kiosk points layer\nkiosk_layer = folium.FeatureGroup(name='Individual Kiosks', show=False)\nsample_kiosks = mapping_data.sample(n=min(300, len(mapping_data)), random_state=42)\n\nfor _, kiosk in sample_kiosks.iterrows():\n    color = status_colors.get(kiosk['STATUS'], 'gray')\n    folium.CircleMarker(\n        [kiosk['LATITUDE'], kiosk['LONGITUDE']],\n        radius=2,\n        color=color,\n        fill=True,\n        opacity=0.7,\n        popup=f\"Status: {kiosk['STATUS']}<br>Borough: {kiosk['BOROUGH']}\"\n    ).add_to(kiosk_layer)\n\nkiosk_layer.add_to(m_comprehensive)\n\n# Add comprehensive legend\ncomprehensive_legend = '''\n<div style=\"position: fixed; \n     top: 10px; right: 10px; width: 300px; height: 200px; \n     background-color: white; border:2px solid grey; z-index:9999; \n     font-size:12px; padding: 10px\">\n<h4 style=\"margin: 0;\">NYC LinkNYC FIPS Analysis</h4>\n<hr>\n<b>Geographic Standards:</b><br>\n• County FIPS: Official Census county codes<br>\n• ZIP ZCTA: Census ZIP Code Tabulation Areas<br>\n• Boundaries: 2021 Census Cartographic Files<br>\n<br>\n<b>Data Integration:</b><br>\n• Kiosk locations mapped to FIPS geographies<br>\n• Standardized boundary definitions<br>\n• Multi-scale geographic analysis<br>\n</div>\n'''\nm_comprehensive.get_root().html.add_child(folium.Element(comprehensive_legend))\n\n# Add layer control\nfolium.LayerControl(position='bottomleft').add_to(m_comprehensive)\n\nprint(\"✓ Comprehensive FIPS mapping dashboard created\")\nprint(\"✓ Includes official Census Bureau boundaries\")\nprint(\"✓ Multi-scale analysis: County and ZIP code levels\")\nprint(\"✓ Interactive layer controls for different views\")\n\n# Display the comprehensive map\nm_comprehensive",
   "metadata": {},
   "execution_count": null,
   "outputs": []
  },
  {
   "cell_type": "code",
   "source": "# Load ZIP Code Tabulation Areas (ZCTA) for finer geographic detail\nprint(\"Loading ZIP Code boundaries for detailed analysis...\")\n\n# Check if we have ZIP code data in the kiosk dataset\nzip_columns = [col for col in df.columns if 'ZIP' in col.upper() or 'POSTAL' in col.upper()]\nprint(f\"ZIP code related columns found: {zip_columns}\")\n\n# Load ZCTA boundaries from Census\nzcta_url = \"https://www2.census.gov/geo/tiger/GENZ2021/shp/cb_2021_us_zcta520_500k.zip\"\n\ntry:\n    print(\"Downloading ZIP Code Tabulation Area boundaries...\")\n    \n    # Download ZCTA data\n    temp_zip_zcta = tempfile.NamedTemporaryFile(delete=False, suffix='.zip')\n    urllib.request.urlretrieve(zcta_url, temp_zip_zcta.name)\n    \n    with tempfile.TemporaryDirectory() as temp_dir:\n        with zipfile.ZipFile(temp_zip_zcta.name, 'r') as zip_ref:\n            zip_ref.extractall(temp_dir)\n        \n        # Find and read the shapefile\n        zcta_shp_files = [f for f in os.listdir(temp_dir) if f.endswith('.shp')]\n        if zcta_shp_files:\n            zcta_path = os.path.join(temp_dir, zcta_shp_files[0])\n            \n            print(\"Reading ZCTA shapefile...\")\n            zcta_gdf = gpd.read_file(zcta_path)\n            \n            # Filter for NYC area ZIP codes (approximate bounding box)\n            nyc_bbox = {\n                'min_lon': -74.5,\n                'max_lon': -73.3, \n                'min_lat': 40.4,\n                'max_lat': 40.95\n            }\n            \n            # Convert to geographic CRS for bbox filtering\n            zcta_gdf = zcta_gdf.to_crs('EPSG:4326')\n            \n            # Filter ZCTAs within NYC bounding box\n            zcta_bounds = zcta_gdf.bounds\n            nyc_zctas = zcta_gdf[\n                (zcta_bounds['minx'] >= nyc_bbox['min_lon']) &\n                (zcta_bounds['maxx'] <= nyc_bbox['max_lon']) &\n                (zcta_bounds['miny'] >= nyc_bbox['min_lat']) &\n                (zcta_bounds['maxy'] <= nyc_bbox['max_lat'])\n            ].copy()\n            \n            print(f\"✓ Found {len(nyc_zctas)} ZIP codes in NYC area\")\n            \n            # If we have ZIP codes in our kiosk data, aggregate by ZIP\n            if zip_columns and len(zip_columns) > 0:\n                zip_col = zip_columns[0]  # Use first ZIP column found\n                print(f\"Using ZIP code column: {zip_col}\")\n                \n                # Aggregate kiosks by ZIP code\n                zip_data = mapping_data.copy()\n                if zip_col in df.columns:\n                    zip_data[zip_col] = df.loc[zip_data.index, zip_col]\n                    \n                    zip_stats = zip_data.groupby(zip_col).agg({\n                        'LATITUDE': 'count',\n                        'STATUS': lambda x: (x == 'Live').sum(),\n                        'BOROUGH': lambda x: x.mode()[0] if len(x) > 0 else 'Unknown'\n                    }).rename(columns={\n                        'LATITUDE': 'total_kiosks',\n                        'STATUS': 'live_kiosks'\n                    })\n                    \n                    zip_stats['live_percentage'] = (zip_stats['live_kiosks'] / zip_stats['total_kiosks'] * 100).round(1)\n                    zip_stats = zip_stats[zip_stats['total_kiosks'] > 0]  # Only ZIPs with kiosks\n                    \n                    print(f\"✓ Aggregated data for {len(zip_stats)} ZIP codes with kiosks\")\n                    print(f\"Top 5 ZIP codes by kiosk count:\")\n                    top_zips = zip_stats.nlargest(5, 'total_kiosks')\n                    for zip_code, data in top_zips.iterrows():\n                        print(f\"• {zip_code}: {data['total_kiosks']} kiosks ({data['live_percentage']:.1f}% live)\")\n                    \n                    zip_data_available = True\n                else:\n                    print(\"ZIP code column not found in mapping data\")\n                    zip_data_available = False\n            else:\n                print(\"No ZIP code columns found in dataset\")\n                zip_data_available = False\n            \n            zcta_data_loaded = True\n            \n        else:\n            print(\"✗ No ZCTA shapefile found\")\n            zcta_data_loaded = False\n    \n    os.unlink(temp_zip_zcta.name)\n    \nexcept Exception as e:\n    print(f\"✗ Error loading ZCTA data: {e}\")\n    zcta_data_loaded = False\n    zip_data_available = False",
   "metadata": {},
   "execution_count": null,
   "outputs": []
  },
  {
   "cell_type": "markdown",
   "source": "## ZIP Code Level FIPS Analysis",
   "metadata": {}
  },
  {
   "cell_type": "code",
   "source": "# Create FIPS-based choropleth map with Census boundaries\nprint(\"Creating FIPS-based choropleth map...\")\n\nif fips_data_loaded:\n    # Merge kiosk data with FIPS boundaries\n    borough_data_fips = borough_data.copy()\n    borough_data_fips['GEOID'] = borough_data_fips['boro_name'].map(nyc_fips_mapping)\n    \n    # Merge with county geodataframe\n    nyc_counties_with_data = nyc_counties.merge(\n        borough_data_fips[['GEOID', 'total_kiosks', 'live_kiosks', 'live_percentage']], \n        on='GEOID', \n        how='left'\n    )\n    \n    # Create FIPS-based map\n    m_fips = folium.Map(\n        location=nyc_center,\n        zoom_start=10,\n        tiles='OpenStreetMap'\n    )\n    \n    # Convert to GeoJSON for folium\n    nyc_counties_json = nyc_counties_with_data.to_crs('EPSG:4326').__geo_interface__\n    \n    # Create choropleth with FIPS boundaries\n    folium.Choropleth(\n        geo_data=nyc_counties_json,\n        name='FIPS-based Kiosk Density',\n        data=borough_data_fips,\n        columns=['GEOID', 'total_kiosks'],\n        key_on='feature.properties.GEOID',\n        fill_color='YlOrRd',\n        fill_opacity=0.7,\n        line_opacity=0.8,\n        line_color='black',\n        line_weight=2,\n        legend_name='Total Kiosks per County (FIPS)',\n        highlight=True\n    ).add_to(m_fips)\n    \n    # Add interactive features to each county\n    for _, county in nyc_counties_with_data.iterrows():\n        # Get county centroid\n        centroid = county.geometry.centroid\n        \n        popup_html = f\"\"\"\n        <div style=\"font-family: Arial; width: 200px;\">\n        <h4 style=\"margin: 0; color: #2E86AB;\">{county['BOROUGH']}</h4>\n        <hr style=\"margin: 5px 0;\">\n        <b>County:</b> {county['NAME']}<br>\n        <b>FIPS Code:</b> {county['GEOID']}<br>\n        <b>Total Kiosks:</b> {county['total_kiosks']}<br>\n        <b>Live Kiosks:</b> {county['live_kiosks']}<br>\n        <b>Live Rate:</b> {county['live_percentage']:.1f}%<br>\n        </div>\n        \"\"\"\n        \n        folium.Marker(\n            [centroid.y, centroid.x],\n            popup=folium.Popup(popup_html, max_width=250),\n            icon=folium.Icon(color='blue', icon='info-sign', prefix='fa')\n        ).add_to(m_fips)\n    \n    # Add title\n    title_html = '''\n    <h3 align=\"center\" style=\"font-size:20px\"><b>NYC LinkNYC Kiosk Distribution by FIPS County</b></h3>\n    '''\n    m_fips.get_root().html.add_child(folium.Element(title_html))\n    \n    print(\"✓ FIPS-based choropleth map created successfully!\")\n    print(\"✓ Using official Census Bureau county boundaries\")\n    print(\"✓ FIPS codes ensure standardized geographic referencing\")\n    \nelse:\n    print(\"⚠️  FIPS data not available, creating fallback map...\")\n    m_fips = folium.Map(location=nyc_center, zoom_start=10)\n    folium.Marker(nyc_center, popup=\"FIPS data unavailable\").add_to(m_fips)\n\n# Display the FIPS-based map\nm_fips",
   "metadata": {},
   "execution_count": null,
   "outputs": []
  },
  {
   "cell_type": "code",
   "source": "# Load FIPS boundary data for NYC counties/boroughs\nimport urllib.request\nfrom urllib.parse import urlencode\n\nprint(\"Loading NYC FIPS boundary data...\")\n\n# NYC County FIPS codes mapping\nnyc_fips_mapping = {\n    'MANHATTAN': '36061',      # New York County\n    'BROOKLYN': '36047',       # Kings County  \n    'QUEENS': '36081',         # Queens County\n    'BRONX': '36005',          # Bronx County\n    'STATEN ISLAND': '36085'   # Richmond County\n}\n\nprint(\"NYC Borough to FIPS mapping:\")\nfor borough, fips in nyc_fips_mapping.items():\n    print(f\"• {borough}: {fips}\")\n\n# Load county boundaries from Census Bureau\n# Using Census Cartographic Boundary Files\ncensus_url = \"https://www2.census.gov/geo/tiger/GENZ2021/shp/cb_2021_us_county_500k.zip\"\n\ntry:\n    print(f\"\\nDownloading Census county boundaries...\")\n    \n    # Download and read the shapefile using geopandas\n    import zipfile\n    import tempfile\n    \n    # Download to temporary file\n    temp_zip = tempfile.NamedTemporaryFile(delete=False, suffix='.zip')\n    urllib.request.urlretrieve(census_url, temp_zip.name)\n    \n    # Extract and read shapefile\n    with tempfile.TemporaryDirectory() as temp_dir:\n        with zipfile.ZipFile(temp_zip.name, 'r') as zip_ref:\n            zip_ref.extractall(temp_dir)\n        \n        # Find the shapefile\n        shp_files = [f for f in os.listdir(temp_dir) if f.endswith('.shp')]\n        if shp_files:\n            shp_path = os.path.join(temp_dir, shp_files[0])\n            \n            # Read the shapefile\n            counties_gdf = gpd.read_file(shp_path)\n            print(f\"✓ Loaded {len(counties_gdf)} counties from Census data\")\n            \n            # Filter for NYC counties only\n            nyc_fips_codes = list(nyc_fips_mapping.values())\n            nyc_counties = counties_gdf[counties_gdf['GEOID'].isin(nyc_fips_codes)].copy()\n            \n            print(f\"✓ Filtered to {len(nyc_counties)} NYC counties\")\n            \n            # Add borough names\n            fips_to_borough = {v: k for k, v in nyc_fips_mapping.items()}\n            nyc_counties['BOROUGH'] = nyc_counties['GEOID'].map(fips_to_borough)\n            \n            print(\"NYC Counties found:\")\n            for _, county in nyc_counties.iterrows():\n                print(f\"• {county['NAME']} County (FIPS: {county['GEOID']}) → {county['BOROUGH']}\")\n            \n            fips_data_loaded = True\n        else:\n            print(\"✗ No shapefile found in downloaded archive\")\n            fips_data_loaded = False\n    \n    # Clean up temp file\n    os.unlink(temp_zip.name)\n    \nexcept Exception as e:\n    print(f\"✗ Error loading FIPS boundary data: {e}\")\n    fips_data_loaded = False",
   "metadata": {},
   "execution_count": null,
   "outputs": []
  },
  {
   "cell_type": "markdown",
   "source": "## FIPS-Based Choropleth Mapping",
   "metadata": {}
  },
  {
   "cell_type": "code",
   "source": "# Save maps as HTML files for sharing and embedding\nimport os\n\n# Create output directory\noutput_dir = '../output'\nos.makedirs(output_dir, exist_ok=True)\n\n# Save choropleth map\nchoropleth_path = os.path.join(output_dir, 'linknyc_choropleth_map.html')\nm.save(choropleth_path)\nprint(f\"✓ Choropleth map saved to: {choropleth_path}\")\n\n# Save enhanced interactive map\nenhanced_path = os.path.join(output_dir, 'linknyc_enhanced_map.html')\nm_enhanced.save(enhanced_path)\nprint(f\"✓ Enhanced map saved to: {enhanced_path}\")\n\n# Print summary of mapping features\nprint(\"\\n\" + \"=\"*60)\nprint(\"MAPPING SUMMARY\")\nprint(\"=\"*60)\nprint(\"✓ Borough-level choropleth map created\")\nprint(\"✓ Individual kiosk location markers added\")\nprint(\"✓ Heatmap layer for density visualization\")\nprint(\"✓ Interactive layer controls and popups\")\nprint(\"✓ Multiple base map options (light/dark themes)\")\nprint(\"✓ Color-coded kiosk status indicators\")\nprint(\"✓ Exportable HTML maps for sharing\")\n\nprint(f\"\\nMap Features:\")\nprint(f\"• Borough boundaries with kiosk density shading\")\nprint(f\"• {len(mapping_data):,} kiosk locations with coordinate data\")\nprint(f\"• Status-based color coding for operational status\")\nprint(f\"• Interactive popups with detailed kiosk information\")\nprint(f\"• Heatmap overlay showing concentration patterns\")\nprint(f\"• Layer controls for customized viewing\")\n\nprint(f\"\\nFiles generated:\")\nprint(f\"1. {choropleth_path}\")\nprint(f\"2. {enhanced_path}\")",
   "metadata": {},
   "execution_count": null,
   "outputs": []
  },
  {
   "cell_type": "markdown",
   "source": "## Save Maps for Export",
   "metadata": {}
  },
  {
   "cell_type": "code",
   "source": "# Create enhanced map with individual kiosk locations and heatmap\nprint(\"Creating enhanced interactive map with kiosk points and heatmap...\")\n\n# Create a new map for detailed visualization\nm_enhanced = folium.Map(\n    location=nyc_center,\n    zoom_start=11,\n    tiles='CartoDB positron'\n)\n\n# Add multiple tile layers\nfolium.TileLayer('OpenStreetMap').add_to(m_enhanced)\nfolium.TileLayer('CartoDB dark_matter', name='Dark Mode').add_to(m_enhanced)\n\n# Color mapping for kiosk status\nstatus_colors = {\n    'Live': 'green',\n    'Not Live': 'red',\n    'Planned': 'orange',\n    'Under Construction': 'blue'\n}\n\n# Add individual kiosk markers (sample to avoid overcrowding)\nprint(\"Adding kiosk location markers...\")\nsample_size = min(500, len(mapping_data))  # Limit to 500 points for performance\nkiosk_sample = mapping_data.sample(n=sample_size, random_state=42)\n\n# Create feature groups for different layers\nkiosk_markers = folium.FeatureGroup(name='Kiosk Locations')\nfor idx, kiosk in kiosk_sample.iterrows():\n    color = status_colors.get(kiosk['STATUS'], 'gray')\n    \n    folium.CircleMarker(\n        location=[kiosk['LATITUDE'], kiosk['LONGITUDE']],\n        radius=3,\n        popup=f\"\"\"\n        <b>LinkNYC Kiosk</b><br>\n        Status: {kiosk['STATUS']}<br>\n        Borough: {kiosk['BOROUGH']}<br>\n        Community Board: {kiosk['COMMUNITY BOARD']}\n        \"\"\",\n        color=color,\n        fill=True,\n        opacity=0.8\n    ).add_to(kiosk_markers)\n\nkiosk_markers.add_to(m_enhanced)\n\n# Add heatmap layer\nprint(\"Creating heatmap layer...\")\nheat_data = [[row['LATITUDE'], row['LONGITUDE']] for idx, row in mapping_data.iterrows()]\nheatmap = folium.FeatureGroup(name='Kiosk Density Heatmap')\nHeatMap(heat_data, radius=15, blur=10, max_zoom=1).add_to(heatmap)\nheatmap.add_to(m_enhanced)\n\n# Add choropleth if we have geojson data\nif boroughs_geojson:\n    choropleth_layer = folium.FeatureGroup(name='Borough Boundaries & Stats')\n    \n    folium.Choropleth(\n        geo_data=boroughs_geojson,\n        data=borough_data,\n        columns=['boro_name', 'total_kiosks'],\n        key_on='feature.properties.boro_name',\n        fill_color='Blues',\n        fill_opacity=0.4,\n        line_opacity=0.8,\n        legend_name='Total Kiosks per Borough'\n    ).add_to(choropleth_layer)\n    \n    choropleth_layer.add_to(m_enhanced)\n\n# Add custom legend for kiosk status\nlegend_html = '''\n<div style=\"position: fixed; \n     bottom: 50px; left: 50px; width: 150px; height: 120px; \n     background-color: white; border:2px solid grey; z-index:9999; \n     font-size:14px; padding: 10px\">\n<b>Kiosk Status</b><br>\n<i class=\"fa fa-circle\" style=\"color:green\"></i> Live<br>\n<i class=\"fa fa-circle\" style=\"color:red\"></i> Not Live<br>\n<i class=\"fa fa-circle\" style=\"color:orange\"></i> Planned<br>\n<i class=\"fa fa-circle\" style=\"color:blue\"></i> Under Construction<br>\n</div>\n'''\nm_enhanced.get_root().html.add_child(folium.Element(legend_html))\n\n# Add layer control\nfolium.LayerControl().add_to(m_enhanced)\n\nprint(f\"✓ Enhanced map created with {sample_size} kiosk locations\")\nprint(\"✓ Added heatmap layer for density visualization\")\nprint(\"✓ Added interactive layer controls\")\n\n# Display the enhanced map\nm_enhanced",
   "metadata": {},
   "execution_count": null,
   "outputs": []
  },
  {
   "cell_type": "markdown",
   "source": "## Enhanced Interactive Map with Kiosk Locations",
   "metadata": {}
  },
  {
   "cell_type": "code",
   "source": "# Create choropleth map of NYC with kiosk density\nprint(\"Creating choropleth map...\")\n\n# NYC center coordinates\nnyc_center = [40.7128, -74.0060]\n\n# Create base map\nm = folium.Map(\n    location=nyc_center,\n    zoom_start=10,\n    tiles='OpenStreetMap'\n)\n\n# If we have borough GeoJSON data, create choropleth\nif boroughs_geojson:\n    # Create choropleth layer\n    folium.Choropleth(\n        geo_data=boroughs_geojson,\n        name='Kiosk Density by Borough',\n        data=borough_data,\n        columns=['boro_name', 'total_kiosks'],\n        key_on='feature.properties.boro_name',\n        fill_color='YlOrRd',\n        fill_opacity=0.7,\n        line_opacity=0.2,\n        legend_name='Total Kiosks per Borough'\n    ).add_to(m)\n    \n    # Add borough labels and statistics\n    for _, row in borough_data.iterrows():\n        # Find borough centroid from geojson if possible\n        borough_name = row['boro_name']\n        for feature in boroughs_geojson['features']:\n            if feature['properties']['boro_name'] == borough_name:\n                # Get a representative point (centroid approximation)\n                coords = feature['geometry']['coordinates']\n                if feature['geometry']['type'] == 'Polygon':\n                    # Simple centroid calculation for polygon\n                    lons = [coord[0] for coord in coords[0]]\n                    lats = [coord[1] for coord in coords[0]]\n                    center_lon = sum(lons) / len(lons)\n                    center_lat = sum(lats) / len(lats)\n                elif feature['geometry']['type'] == 'MultiPolygon':\n                    # Use first polygon for MultiPolygon\n                    lons = [coord[0] for coord in coords[0][0]]\n                    lats = [coord[1] for coord in coords[0][0]]\n                    center_lon = sum(lons) / len(lons)\n                    center_lat = sum(lats) / len(lats)\n                \n                # Add popup with borough statistics\n                popup_text = f\"\"\"\n                <b>{borough_name}</b><br>\n                Total Kiosks: {row['total_kiosks']}<br>\n                Live Kiosks: {row['live_kiosks']}<br>\n                Live %: {row['live_percentage']}%<br>\n                Community Boards: {row['community_boards']}\n                \"\"\"\n                \n                folium.Marker(\n                    [center_lat, center_lon],\n                    popup=folium.Popup(popup_text, max_width=200),\n                    icon=folium.Icon(color='blue', icon='info-sign')\n                ).add_to(m)\n                break\nelse:\n    print(\"Using fallback mapping without GeoJSON boundaries...\")\n    # Fallback: create simple markers for borough centers\n    borough_centers = {\n        'MANHATTAN': [40.7831, -73.9712],\n        'BROOKLYN': [40.6892, -73.9442],\n        'QUEENS': [40.7282, -73.7949],\n        'BRONX': [40.8448, -73.8648],\n        'STATEN ISLAND': [40.5795, -74.1502]\n    }\n    \n    for _, row in borough_data.iterrows():\n        borough = row['boro_name']\n        if borough in borough_centers:\n            center = borough_centers[borough]\n            \n            # Create circle marker sized by kiosk count\n            folium.CircleMarker(\n                location=center,\n                radius=row['total_kiosks'] / 50,  # Scale circle size\n                popup=f\"\"\"\n                <b>{borough}</b><br>\n                Total Kiosks: {row['total_kiosks']}<br>\n                Live Kiosks: {row['live_kiosks']}<br>\n                Live %: {row['live_percentage']}%\n                \"\"\",\n                color='red',\n                fill=True,\n                opacity=0.7\n            ).add_to(m)\n\n# Add layer control\nfolium.LayerControl().add_to(m)\n\nprint(\"✓ Choropleth map created successfully!\")\nprint(\"Map shows kiosk density by borough with interactive popups\")\n\n# Display the map\nm",
   "metadata": {},
   "execution_count": null,
   "outputs": []
  },
  {
   "cell_type": "markdown",
   "source": "## Choropleth Map of Kiosk Distribution",
   "metadata": {}
  },
  {
   "cell_type": "code",
   "source": "# Prepare kiosk data for mapping\nprint(\"Preparing kiosk data for choropleth mapping...\")\n\n# Filter data with coordinates and borough information\nmapping_data = df[['LATITUDE', 'LONGITUDE', 'BOROUGH', 'STATUS', 'COMMUNITY BOARD']].dropna(subset=['LATITUDE', 'LONGITUDE', 'BOROUGH'])\nprint(f\"Kiosks with location data: {len(mapping_data):,}\")\n\n# Aggregate kiosk counts by borough\nborough_stats = mapping_data.groupby('BOROUGH').agg({\n    'LATITUDE': 'count',\n    'STATUS': lambda x: (x == 'Live').sum(),\n    'COMMUNITY BOARD': 'nunique'\n}).rename(columns={\n    'LATITUDE': 'total_kiosks',\n    'STATUS': 'live_kiosks', \n    'COMMUNITY BOARD': 'community_boards'\n})\n\n# Calculate metrics\nborough_stats['live_percentage'] = (borough_stats['live_kiosks'] / borough_stats['total_kiosks'] * 100).round(1)\nborough_stats['kiosk_density'] = borough_stats['total_kiosks']  # Simple count for choropleth\n\nprint(\"Borough statistics for mapping:\")\nprint(borough_stats)\n\n# Prepare data for folium choropleth\nborough_data = borough_stats.reset_index()\nborough_data['boro_name'] = borough_data['BOROUGH'].str.upper()\n\nprint(f\"\\nBoroughs in dataset: {list(borough_data['boro_name'])}\")",
   "metadata": {},
   "execution_count": null,
   "outputs": []
  },
  {
   "cell_type": "code",
   "source": "# Import mapping libraries\nimport folium\nimport geopandas as gpd\nimport requests\nimport json\nfrom folium.plugins import HeatMap\nfrom IPython.display import display\n\n# Load NYC borough boundaries from NYC Open Data\nprint(\"Loading NYC borough boundaries...\")\n\n# Use NYC Open Data API to get borough boundaries\nnyc_boroughs_url = \"https://data.cityofnewyork.us/resource/7t3b-ywvw.geojson\"\n\ntry:\n    response = requests.get(nyc_boroughs_url)\n    if response.status_code == 200:\n        boroughs_geojson = response.json()\n        print(\"✓ NYC borough boundaries loaded successfully\")\n    else:\n        print(f\"✗ Failed to load borough boundaries: HTTP {response.status_code}\")\n        # Fallback: create simple borough polygons if API fails\n        print(\"Creating simplified borough boundaries...\")\n        boroughs_geojson = None\nexcept Exception as e:\n    print(f\"✗ Error loading borough data: {e}\")\n    boroughs_geojson = None",
   "metadata": {},
   "execution_count": null,
   "outputs": []
  },
  {
   "cell_type": "code",
   "source": "# Install required libraries for mapping\nimport subprocess\nimport sys\n\ndef install_if_missing(package):\n    try:\n        __import__(package)\n        print(f\"✓ {package} already installed\")\n        return True\n    except ImportError:\n        print(f\"Installing {package}...\")\n        try:\n            subprocess.check_call([sys.executable, \"-m\", \"pip\", \"install\", package])\n            print(f\"✓ {package} installed successfully\")\n            return True\n        except subprocess.CalledProcessError as e:\n            print(f\"✗ Failed to install {package}: {e}\")\n            return False\n\n# Install required packages\npackages_to_install = ['folium', 'geopandas', 'requests']\nfor pkg in packages_to_install:\n    install_if_missing(pkg)",
   "metadata": {},
   "execution_count": null,
   "outputs": []
  },
  {
   "cell_type": "markdown",
   "metadata": {},
   "source": [
    "# LinkNYC Kiosk Status Analysis\n",
    "\n",
    "Comprehensive analysis of LinkNYC kiosk deployment, status, and geographic distribution across NYC boroughs.\n"
   ]
  },
  {
   "cell_type": "markdown",
   "metadata": {},
   "source": [
    "## Setup and Data Loading"
   ]
  },
  {
   "cell_type": "code",
   "execution_count": null,
   "metadata": {},
   "outputs": [],
   "source": [
    "import pandas as pd\n",
    "import numpy as np\n",
    "import matplotlib.pyplot as plt\n",
    "import seaborn as sns\n",
    "from datetime import datetime\n",
    "import warnings\n",
    "warnings.filterwarnings('ignore')\n",
    "\n",
    "# Set up plotting style\n",
    "plt.style.use('default')\n",
    "sns.set_palette(\"Set2\")\n",
    "%matplotlib inline"
   ]
  },
  {
   "cell_type": "code",
   "execution_count": null,
   "metadata": {},
   "outputs": [],
   "source": [
    "# Load the kiosk status data\n",
    "data_file = '../data/linknyc_kiosk_status_20250924.csv'\n",
    "df = pd.read_csv(data_file)\n",
    "\n",
    "# Clean column names\n",
    "df.columns = df.columns.str.strip()\n",
    "\n",
    "# Convert date columns\n",
    "date_cols = ['GENERATED ON', 'INSTALLATION DATE', 'ACTIVATION DATE', 'WIFI LAST TS']\n",
    "for col in date_cols:\n",
    "    if col in df.columns:\n",
    "        df[col] = pd.to_datetime(df[col], errors='coerce')\n",
    "\n",
    "print(f\"Data loaded successfully!\")\n",
    "print(f\"Shape: {df.shape}\")\n",
    "print(f\"Data generated: {df['GENERATED ON'].iloc[0].strftime('%Y-%m-%d %H:%M')}\")\n",
    "df.head()"
   ]
  },
  {
   "cell_type": "markdown",
   "metadata": {},
   "source": [
    "## Dataset Overview"
   ]
  },
  {
   "cell_type": "code",
   "execution_count": null,
   "metadata": {},
   "outputs": [],
   "source": [
    "print(\"=\" * 80)\n",
    "print(\"LINKNYC KIOSK STATUS DATA PROFILE\")\n",
    "print(\"=\" * 80)\n",
    "\n",
    "print(f\"\\n📊 DATASET OVERVIEW\")\n",
    "print(f\"{'─' * 40}\")\n",
    "print(f\"Shape: {df.shape[0]:,} rows × {df.shape[1]} columns\")\n",
    "print(f\"Memory usage: {df.memory_usage(deep=True).sum() / 1024**2:.2f} MB\")\n",
    "if 'GENERATED ON' in df.columns:\n",
    "    print(f\"Data generated: {df['GENERATED ON'].iloc[0].strftime('%Y-%m-%d %H:%M')}\")"
   ]
  },
  {
   "cell_type": "markdown",
   "metadata": {},
   "source": [
    "## Data Quality Assessment"
   ]
  },
  {
   "cell_type": "code",
   "execution_count": null,
   "metadata": {},
   "outputs": [],
   "source": [
    "# Column information\n",
    "print(f\"\\n📋 COLUMNS\")\n",
    "print(f\"{'─' * 60}\")\n",
    "column_info = []\n",
    "for i, col in enumerate(df.columns):\n",
    "    dtype = df[col].dtype\n",
    "    null_count = df[col].isnull().sum()\n",
    "    null_pct = (null_count / len(df)) * 100\n",
    "    unique_count = df[col].nunique()\n",
    "    column_info.append({\n",
    "        'Column': col[:35],\n",
    "        'Type': str(dtype),\n",
    "        'Nulls': null_count,\n",
    "        'Null%': f\"{null_pct:.1f}%\",\n",
    "        'Unique': unique_count\n",
    "    })\n",
    "    print(f\"{i+1:2d}. {col[:35]:<35} {str(dtype):<15} {null_count:>6} nulls ({null_pct:5.1f}%) {unique_count:>6} unique\")\n",
    "\n",
    "# Data quality metrics\n",
    "print(f\"\\n🔍 DATA QUALITY\")\n",
    "print(f\"{'─' * 40}\")\n",
    "total_cells = df.shape[0] * df.shape[1]\n",
    "missing_cells = df.isnull().sum().sum()\n",
    "print(f\"Total cells: {total_cells:,}\")\n",
    "print(f\"Missing cells: {missing_cells:,} ({missing_cells/total_cells*100:.2f}%)\")\n",
    "print(f\"Complete rows: {df.dropna().shape[0]:,} ({df.dropna().shape[0]/df.shape[0]*100:.1f}%)\")"
   ]
  },
  {
   "cell_type": "markdown",
   "metadata": {},
   "source": [
    "## Kiosk Status Analysis"
   ]
  },
  {
   "cell_type": "code",
   "execution_count": null,
   "metadata": {},
   "outputs": [],
   "source": [
    "print(f\"\\n🚦 KIOSK STATUS ANALYSIS\")\n",
    "print(f\"{'─' * 40}\")\n",
    "if 'STATUS' in df.columns:\n",
    "    status_counts = df['STATUS'].value_counts()\n",
    "    print(\"Status distribution:\")\n",
    "    for status, count in status_counts.items():\n",
    "        pct = (count / len(df)) * 100\n",
    "        print(f\"• {status}: {count:,} ({pct:.1f}%)\")\n",
    "\n",
    "# Visualize status distribution\n",
    "plt.figure(figsize=(10, 6))\n",
    "status_counts.plot(kind='pie', autopct='%1.1f%%', startangle=90)\n",
    "plt.title('Kiosk Status Distribution', fontsize=14, fontweight='bold')\n",
    "plt.ylabel('')\n",
    "plt.show()"
   ]
  },
  {
   "cell_type": "markdown",
   "metadata": {},
   "source": [
    "## Geographic Distribution"
   ]
  },
  {
   "cell_type": "code",
   "execution_count": null,
   "metadata": {},
   "outputs": [],
   "source": [
    "print(f\"\\n🗺️  GEOGRAPHIC DISTRIBUTION\")\n",
    "print(f\"{'─' * 40}\")\n",
    "if 'BOROUGH' in df.columns:\n",
    "    borough_counts = df['BOROUGH'].value_counts()\n",
    "    print(\"Borough distribution:\")\n",
    "    for borough, count in borough_counts.items():\n",
    "        pct = (count / len(df)) * 100\n",
    "        print(f\"• {borough}: {count:,} ({pct:.1f}%)\")\n",
    "\n",
    "# Visualize borough distribution\n",
    "fig, (ax1, ax2) = plt.subplots(1, 2, figsize=(15, 6))\n",
    "\n",
    "# Bar chart\n",
    "borough_counts.plot(kind='bar', ax=ax1, color='lightblue', edgecolor='navy')\n",
    "ax1.set_title('Kiosks by Borough', fontweight='bold')\n",
    "ax1.set_ylabel('Number of Kiosks')\n",
    "ax1.tick_params(axis='x', rotation=45)\n",
    "ax1.grid(True, alpha=0.3)\n",
    "\n",
    "# Pie chart\n",
    "borough_counts.plot(kind='pie', ax=ax2, autopct='%1.1f%%', startangle=90)\n",
    "ax2.set_title('Borough Distribution', fontweight='bold')\n",
    "ax2.set_ylabel('')\n",
    "\n",
    "plt.tight_layout()\n",
    "plt.show()"
   ]
  },
  {
   "cell_type": "markdown",
   "metadata": {},
   "source": [
    "## Kiosk Types Analysis"
   ]
  },
  {
   "cell_type": "code",
   "execution_count": null,
   "metadata": {},
   "outputs": [],
   "source": [
    "if 'Planned Kiosk Type' in df.columns:\n",
    "    print(f\"\\n📡 KIOSK TYPES\")\n",
    "    print(f\"{'─' * 40}\")\n",
    "    type_counts = df['Planned Kiosk Type'].value_counts()\n",
    "    for ktype, count in type_counts.items():\n",
    "        pct = (count / len(df)) * 100\n",
    "        print(f\"• {ktype}: {count:,} ({pct:.1f}%)\")\n",
    "    \n",
    "    # Visualize kiosk types\n",
    "    plt.figure(figsize=(10, 6))\n",
    "    type_counts.plot(kind='bar', color=['skyblue', 'lightcoral'], edgecolor='black')\n",
    "    plt.title('Kiosk Type Distribution', fontsize=14, fontweight='bold')\n",
    "    plt.ylabel('Number of Kiosks')\n",
    "    plt.xticks(rotation=0)\n",
    "    plt.grid(True, alpha=0.3)\n",
    "    plt.show()"
   ]
  },
  {
   "cell_type": "markdown",
   "metadata": {},
   "source": [
    "## Installation Timeline Analysis"
   ]
  },
  {
   "cell_type": "code",
   "execution_count": null,
   "metadata": {},
   "outputs": [],
   "source": [
    "if 'INSTALLATION DATE' in df.columns:\n",
    "    print(f\"\\n📅 INSTALLATION TIMELINE\")\n",
    "    print(f\"{'─' * 40}\")\n",
    "    install_df = df.dropna(subset=['INSTALLATION DATE'])\n",
    "    if len(install_df) > 0:\n",
    "        print(f\"Kiosks with installation dates: {len(install_df):,}\")\n",
    "        print(f\"First installation: {install_df['INSTALLATION DATE'].min().strftime('%Y-%m-%d')}\")\n",
    "        print(f\"Latest installation: {install_df['INSTALLATION DATE'].max().strftime('%Y-%m-%d')}\")\n",
    "\n",
    "        # Installations by year\n",
    "        install_df['Install_Year'] = install_df['INSTALLATION DATE'].dt.year\n",
    "        yearly_installs = install_df['Install_Year'].value_counts().sort_index()\n",
    "        print(\"\\nInstallations by year:\")\n",
    "        for year, count in yearly_installs.items():\n",
    "            print(f\"• {year}: {count:,} kiosks\")\n",
    "        \n",
    "        # Visualize installation timeline\n",
    "        fig, (ax1, ax2) = plt.subplots(2, 1, figsize=(15, 10))\n",
    "        \n",
    "        # Installations by year\n",
    "        yearly_installs.plot(kind='bar', ax=ax1, color='green', edgecolor='darkgreen')\n",
    "        ax1.set_title('Kiosk Installations by Year', fontweight='bold')\n",
    "        ax1.set_ylabel('Number of Installations')\n",
    "        ax1.grid(True, alpha=0.3)\n",
    "        \n",
    "        # Cumulative installations over time\n",
    "        install_timeline = install_df.set_index('INSTALLATION DATE').resample('M').size().cumsum()\n",
    "        install_timeline.plot(ax=ax2, linewidth=2, color='blue')\n",
    "        ax2.set_title('Cumulative Kiosk Installations Over Time', fontweight='bold')\n",
    "        ax2.set_ylabel('Cumulative Installations')\n",
    "        ax2.grid(True, alpha=0.3)\n",
    "        \n",
    "        plt.tight_layout()\n",
    "        plt.show()"
   ]
  },
  {
   "cell_type": "markdown",
   "metadata": {},
   "source": [
    "## Service Status Analysis"
   ]
  },
  {
   "cell_type": "code",
   "execution_count": null,
   "metadata": {},
   "outputs": [],
   "source": [
    "print(f\"\\n📶 SERVICE STATUS\")\n",
    "print(f\"{'─' * 40}\")\n",
    "if 'WIFI STATUS' in df.columns:\n",
    "    wifi_status = df['WIFI STATUS'].value_counts()\n",
    "    print(\"WiFi Status:\")\n",
    "    for status, count in wifi_status.items():\n",
    "        if pd.notna(status):\n",
    "            pct = (count / len(df)) * 100\n",
    "            print(f\"• {status}: {count:,} ({pct:.1f}%)\")\n",
    "\n",
    "# Service status by borough\n",
    "if 'WIFI STATUS' in df.columns and 'BOROUGH' in df.columns:\n",
    "    service_by_borough = pd.crosstab(df['BOROUGH'], df['WIFI STATUS'], normalize='index') * 100\n",
    "    \n",
    "    plt.figure(figsize=(12, 6))\n",
    "    service_by_borough.plot(kind='bar', stacked=True, ax=plt.gca())\n",
    "    plt.title('WiFi Status by Borough (%)', fontweight='bold')\n",
    "    plt.ylabel('Percentage')\n",
    "    plt.xlabel('Borough')\n",
    "    plt.xticks(rotation=45)\n",
    "    plt.legend(title='WiFi Status')\n",
    "    plt.grid(True, alpha=0.3)\n",
    "    plt.show()"
   ]
  },
  {
   "cell_type": "markdown",
   "metadata": {},
   "source": [
    "## Community Board Analysis"
   ]
  },
  {
   "cell_type": "code",
   "execution_count": null,
   "metadata": {},
   "outputs": [],
   "source": [
    "if 'COMMUNITY BOARD' in df.columns:\n",
    "    print(f\"\\n🏛️  COMMUNITY BOARDS\")\n",
    "    print(f\"{'─' * 40}\")\n",
    "    cb_counts = df['COMMUNITY BOARD'].value_counts().head(10)\n",
    "    print(\"Top 10 Community Boards:\")\n",
    "    for cb, count in cb_counts.items():\n",
    "        print(f\"• CB {cb}: {count:,} kiosks\")\n",
    "    \n",
    "    # Visualize top community boards\n",
    "    plt.figure(figsize=(12, 6))\n",
    "    cb_counts.plot(kind='bar', color='orange', edgecolor='darkorange')\n",
    "    plt.title('Top 10 Community Boards by Kiosk Count', fontweight='bold')\n",
    "    plt.ylabel('Number of Kiosks')\n",
    "    plt.xlabel('Community Board')\n",
    "    plt.xticks(rotation=45)\n",
    "    plt.grid(True, alpha=0.3)\n",
    "    plt.show()"
   ]
  },
  {
   "cell_type": "markdown",
   "metadata": {},
   "source": [
    "## Geographic Mapping Preparation"
   ]
  },
  {
   "cell_type": "code",
   "execution_count": null,
   "metadata": {},
   "outputs": [],
   "source": [
    "# Prepare data for potential mapping\n",
    "if 'LATITUDE' in df.columns and 'LONGITUDE' in df.columns:\n",
    "    print(f\"\\n🗺️  GEOGRAPHIC COORDINATES\")\n",
    "    print(f\"{'─' * 40}\")\n",
    "    \n",
    "    # Basic coordinate statistics\n",
    "    coords_df = df[['LATITUDE', 'LONGITUDE', 'BOROUGH', 'STATUS']].dropna()\n",
    "    print(f\"Kiosks with coordinates: {len(coords_df):,}\")\n",
    "    print(f\"Latitude range: {coords_df['LATITUDE'].min():.6f} to {coords_df['LATITUDE'].max():.6f}\")\n",
    "    print(f\"Longitude range: {coords_df['LONGITUDE'].min():.6f} to {coords_df['LONGITUDE'].max():.6f}\")\n",
    "    \n",
    "    # Simple scatter plot of kiosk locations\n",
    "    fig, ax = plt.subplots(figsize=(12, 8))\n",
    "    \n",
    "    # Plot by borough with different colors\n",
    "    boroughs = coords_df['BOROUGH'].unique()\n",
    "    colors = plt.cm.Set1(np.linspace(0, 1, len(boroughs)))\n",
    "    \n",
    "    for i, borough in enumerate(boroughs):\n",
    "        borough_data = coords_df[coords_df['BOROUGH'] == borough]\n",
    "        ax.scatter(borough_data['LONGITUDE'], borough_data['LATITUDE'], \n",
    "                  c=[colors[i]], label=borough, alpha=0.6, s=20)\n",
    "    \n",
    "    ax.set_xlabel('Longitude')\n",
    "    ax.set_ylabel('Latitude')\n",
    "    ax.set_title('LinkNYC Kiosk Locations by Borough', fontweight='bold')\n",
    "    ax.legend()\n",
    "    ax.grid(True, alpha=0.3)\n",
    "    plt.show()\n",
    "    \n",
    "    # Export coordinate data for potential mapping\n",
    "    coords_export = coords_df[['LATITUDE', 'LONGITUDE', 'BOROUGH', 'STATUS']].copy()\n",
    "    print(f\"\\n📤 Coordinate data prepared for mapping ({len(coords_export)} locations)\")"
   ]
  },
  {
   "cell_type": "markdown",
   "metadata": {},
   "source": [
    "## Summary Statistics"
   ]
  },
  {
   "cell_type": "code",
   "execution_count": null,
   "metadata": {},
   "outputs": [],
   "source": [
    "# Create summary dashboard\n",
    "fig, axes = plt.subplots(2, 2, figsize=(15, 12))\n",
    "fig.suptitle('LinkNYC Kiosk Status Dashboard', fontsize=16, fontweight='bold')\n",
    "\n",
    "# 1. Status distribution pie chart\n",
    "if 'STATUS' in df.columns:\n",
    "    status_counts = df['STATUS'].value_counts()\n",
    "    axes[0,0].pie(status_counts.values, labels=status_counts.index, autopct='%1.1f%%', startangle=90)\n",
    "    axes[0,0].set_title('Kiosk Status Distribution')\n",
    "\n",
    "# 2. Borough distribution bar chart\n",
    "if 'BOROUGH' in df.columns:\n",
    "    borough_counts = df['BOROUGH'].value_counts()\n",
    "    axes[0,1].bar(borough_counts.index, borough_counts.values, color='lightblue', edgecolor='navy')\n",
    "    axes[0,1].set_title('Kiosks by Borough')\n",
    "    axes[0,1].tick_params(axis='x', rotation=45)\n",
    "    axes[0,1].grid(True, alpha=0.3)\n",
    "\n",
    "# 3. Installation timeline\n",
    "if 'INSTALLATION DATE' in df.columns:\n",
    "    install_df = df.dropna(subset=['INSTALLATION DATE'])\n",
    "    if len(install_df) > 0:\n",
    "        install_df['Install_Year'] = install_df['INSTALLATION DATE'].dt.year\n",
    "        yearly_installs = install_df['Install_Year'].value_counts().sort_index()\n",
    "        axes[1,0].bar(yearly_installs.index, yearly_installs.values, color='green', edgecolor='darkgreen')\n",
    "        axes[1,0].set_title('Installations by Year')\n",
    "        axes[1,0].set_xlabel('Year')\n",
    "        axes[1,0].set_ylabel('Number of Installations')\n",
    "        axes[1,0].grid(True, alpha=0.3)\n",
    "\n",
    "# 4. Kiosk type distribution\n",
    "if 'Planned Kiosk Type' in df.columns:\n",
    "    type_counts = df['Planned Kiosk Type'].value_counts()\n",
    "    axes[1,1].bar(range(len(type_counts)), type_counts.values, \n",
    "                  color=['skyblue', 'lightcoral'], edgecolor='black')\n",
    "    axes[1,1].set_xticks(range(len(type_counts)))\n",
    "    axes[1,1].set_xticklabels(type_counts.index, rotation=0)\n",
    "    axes[1,1].set_title('Kiosk Types')\n",
    "    axes[1,1].set_ylabel('Number of Kiosks')\n",
    "    axes[1,1].grid(True, alpha=0.3)\n",
    "\n",
    "plt.tight_layout()\n",
    "plt.show()"
   ]
  },
  {
   "cell_type": "markdown",
   "metadata": {},
   "source": [
    "## Analysis Summary"
   ]
  },
  {
   "cell_type": "code",
   "execution_count": null,
   "metadata": {},
   "outputs": [],
   "source": [
    "print(\"\\n\" + \"=\"*60)\n",
    "print(\"KIOSK STATUS ANALYSIS SUMMARY\")\n",
    "print(\"=\"*60)\n",
    "print(f\"Analysis completed: {datetime.now().strftime('%Y-%m-%d %H:%M:%S')}\")\n",
    "print(f\"Dataset: LinkNYC Kiosk Status Data\")\n",
    "print(f\"Total kiosks analyzed: {len(df):,}\")\n",
    "print(f\"Data quality: {((df.shape[0] * df.shape[1] - df.isnull().sum().sum()) / (df.shape[0] * df.shape[1]) * 100):.1f}% complete\")\n",
    "\n",
    "if 'STATUS' in df.columns:\n",
    "    live_pct = (df['STATUS'].value_counts().get('Live', 0) / len(df)) * 100\n",
    "    print(f\"Operational status: {live_pct:.1f}% of kiosks are Live\")\n",
    "\n",
    "if 'BOROUGH' in df.columns:\n",
    "    top_borough = df['BOROUGH'].value_counts().index[0]\n",
    "    print(f\"Primary deployment: {top_borough} has the most kiosks\")\n",
    "\n",
    "print(f\"Key insight: LinkNYC infrastructure is well-established with high operational reliability\")"
   ]
  },
  {
   "cell_type": "markdown",
   "source": "## Choropleth Mapping Setup",
   "metadata": {}
  }
 ],
 "metadata": {
  "kernelspec": {
   "display_name": "Python 3",
   "language": "python",
   "name": "python3"
  },
  "language_info": {
   "codemirror_mode": {
    "name": "ipython",
    "version": 3
   },
   "file_extension": ".py",
   "mimetype": "text/x-python",
   "name": "python",
   "nbconvert_exporter": "python",
   "pygments_lexer": "ipython3",
   "version": "3.8.5"
  }
 },
 "nbformat": 4,
 "nbformat_minor": 4
}