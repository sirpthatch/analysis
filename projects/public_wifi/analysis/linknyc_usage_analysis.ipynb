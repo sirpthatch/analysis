{
 "cells": [
  {
   "cell_type": "markdown",
   "metadata": {},
   "source": [
    "# LinkNYC Weekly Usage Data Analysis\n",
    "\n",
    "Comprehensive analysis of LinkNYC weekly usage patterns, including data profiling, statistical analysis, and visualization.\n"
   ]
  },
  {
   "cell_type": "markdown",
   "metadata": {},
   "source": [
    "## Setup and Data Loading"
   ]
  },
  {
   "cell_type": "code",
   "execution_count": null,
   "metadata": {},
   "outputs": [],
   "source": [
    "import pandas as pd\n",
    "import numpy as np\n",
    "import matplotlib.pyplot as plt\n",
    "import seaborn as sns\n",
    "from datetime import datetime\n",
    "import warnings\n",
    "warnings.filterwarnings('ignore')\n",
    "\n",
    "# Set up plotting style\n",
    "plt.style.use('default')\n",
    "sns.set_palette(\"husl\")\n",
    "%matplotlib inline"
   ]
  },
  {
   "cell_type": "code",
   "execution_count": null,
   "metadata": {},
   "outputs": [],
   "source": [
    "def parse_time_to_minutes(time_str):\n",
    "    \"\"\"Convert HH:MM:SS format to total minutes\"\"\"\n",
    "    try:\n",
    "        parts = str(time_str).split(':')\n",
    "        if len(parts) == 3:\n",
    "            hours, minutes, seconds = map(int, parts)\n",
    "            return hours * 60 + minutes + seconds / 60\n",
    "        return np.nan\n",
    "    except:\n",
    "        return np.nan\n",
    "\n",
    "# Load the data\n",
    "data_file = '../data/linknyc_weekly_usage__updated_.csv'\n",
    "df = pd.read_csv(data_file)\n",
    "\n",
    "# Clean column names\n",
    "df.columns = df.columns.str.strip()\n",
    "\n",
    "# Convert date column\n",
    "df['Report_Date'] = pd.to_datetime(df.iloc[:, 0])\n",
    "\n",
    "# Extract time components from average session length\n",
    "session_col = df.columns[2]  # Average Session Length column\n",
    "df['Avg_Session_Minutes'] = df[session_col].apply(parse_time_to_minutes)\n",
    "\n",
    "print(f\"Data loaded successfully!\")\n",
    "print(f\"Shape: {df.shape}\")\n",
    "df.head()"
   ]
  },
  {
   "cell_type": "markdown",
   "metadata": {},
   "source": [
    "## Dataset Overview"
   ]
  },
  {
   "cell_type": "code",
   "execution_count": null,
   "metadata": {},
   "outputs": [],
   "source": [
    "print(\"=\" * 80)\n",
    "print(\"LINKNYC WEEKLY USAGE DATA PROFILE\")\n",
    "print(\"=\" * 80)\n",
    "\n",
    "print(f\"\\n📊 DATASET OVERVIEW\")\n",
    "print(f\"{'─' * 40}\")\n",
    "print(f\"Shape: {df.shape[0]:,} rows × {df.shape[1]} columns\")\n",
    "print(f\"Memory usage: {df.memory_usage(deep=True).sum() / 1024**2:.2f} MB\")\n",
    "print(f\"Date range: {df['Report_Date'].min().strftime('%Y-%m-%d')} to {df['Report_Date'].max().strftime('%Y-%m-%d')}\")\n",
    "print(f\"Time span: {(df['Report_Date'].max() - df['Report_Date'].min()).days} days\")"
   ]
  },
  {
   "cell_type": "markdown",
   "metadata": {},
   "source": [
    "## Data Quality Assessment"
   ]
  },
  {
   "cell_type": "code",
   "execution_count": null,
   "metadata": {},
   "outputs": [],
   "source": [
    "# Column information\n",
    "print(f\"\\n📋 COLUMNS\")\n",
    "print(f\"{'─' * 40}\")\n",
    "for i, col in enumerate(df.columns):\n",
    "    dtype = df[col].dtype\n",
    "    null_count = df[col].isnull().sum()\n",
    "    null_pct = (null_count / len(df)) * 100\n",
    "    print(f\"{i+1:2d}. {col[:40]:<40} {str(dtype):<12} {null_count:>6} nulls ({null_pct:5.1f}%)\")\n",
    "\n",
    "# Data quality metrics\n",
    "print(f\"\\n🔍 DATA QUALITY\")\n",
    "print(f\"{'─' * 40}\")\n",
    "total_cells = df.shape[0] * df.shape[1]\n",
    "missing_cells = df.isnull().sum().sum()\n",
    "print(f\"Total cells: {total_cells:,}\")\n",
    "print(f\"Missing cells: {missing_cells:,} ({missing_cells/total_cells*100:.2f}%)\")\n",
    "print(f\"Complete rows: {df.dropna().shape[0]:,} ({df.dropna().shape[0]/df.shape[0]*100:.1f}%)\")"
   ]
  },
  {
   "cell_type": "markdown",
   "metadata": {},
   "source": [
    "## Statistical Summary"
   ]
  },
  {
   "cell_type": "code",
   "execution_count": null,
   "metadata": {},
   "outputs": [],
   "source": [
    "# Statistical summary for numeric columns\n",
    "numeric_cols = df.select_dtypes(include=[np.number]).columns\n",
    "print(f\"\\n📈 STATISTICAL SUMMARY\")\n",
    "print(f\"{'─' * 40}\")\n",
    "display(df[numeric_cols].describe().round(2))"
   ]
  },
  {
   "cell_type": "markdown",
   "metadata": {},
   "source": [
    "## Key Insights"
   ]
  },
  {
   "cell_type": "code",
   "execution_count": null,
   "metadata": {},
   "outputs": [],
   "source": [
    "print(f\"\\n💡 KEY INSIGHTS\")\n",
    "print(f\"{'─' * 40}\")\n",
    "\n",
    "# Sessions analysis\n",
    "if 'Number of Sessions' in df.columns:\n",
    "    sessions = df['Number of Sessions']\n",
    "    print(f\"• Peak weekly sessions: {sessions.max():,} ({df.loc[sessions.idxmax(), 'Report_Date'].strftime('%Y-%m-%d')})\")\n",
    "    print(f\"• Lowest weekly sessions: {sessions.min():,} ({df.loc[sessions.idxmin(), 'Report_Date'].strftime('%Y-%m-%d')})\")\n",
    "    print(f\"• Average weekly sessions: {sessions.mean():,.0f}\")\n",
    "\n",
    "    # Detect COVID impact\n",
    "    covid_start = pd.to_datetime('2020-03-15')\n",
    "    pre_covid = df[df['Report_Date'] < covid_start]['Number of Sessions'].mean()\n",
    "    covid_period = df[(df['Report_Date'] >= covid_start) & (df['Report_Date'] < pd.to_datetime('2020-06-01'))]['Number of Sessions'].mean()\n",
    "    if covid_period < pre_covid * 0.5:\n",
    "        print(f\"• COVID-19 impact detected: {((pre_covid - covid_period) / pre_covid * 100):.1f}% drop in sessions\")\n",
    "\n",
    "# Bandwidth analysis\n",
    "if 'TB Downloaded' in df.columns and 'TB Uploaded' in df.columns:\n",
    "    download_gb = df['TB Downloaded'] * 1024\n",
    "    upload_gb = df['TB Uploaded'] * 1024\n",
    "    print(f\"• Peak weekly download: {download_gb.max():,.1f} GB\")\n",
    "    print(f\"• Peak weekly upload: {upload_gb.max():,.1f} GB\")\n",
    "    print(f\"• Download/Upload ratio: {download_gb.mean() / upload_gb.mean():.1f}:1\")\n",
    "\n",
    "# Unique users analysis\n",
    "if 'Number of Unique Clients' in df.columns:\n",
    "    unique_clients = df['Number of Unique Clients']\n",
    "    print(f\"• Peak unique weekly users: {unique_clients.max():,}\")\n",
    "    print(f\"• Average unique weekly users: {unique_clients.mean():,.0f}\")\n",
    "\n",
    "# Session duration analysis\n",
    "if 'Avg_Session_Minutes' in df.columns:\n",
    "    avg_duration = df['Avg_Session_Minutes'].mean()\n",
    "    print(f\"• Average session duration: {avg_duration:.1f} minutes\")"
   ]
  },
  {
   "cell_type": "markdown",
   "metadata": {},
   "source": [
    "## Trends and Patterns"
   ]
  },
  {
   "cell_type": "code",
   "execution_count": null,
   "metadata": {},
   "outputs": [],
   "source": [
    "print(f\"\\n📊 TRENDS & PATTERNS\")\n",
    "print(f\"{'─' * 40}\")\n",
    "\n",
    "# Calculate year-over-year growth\n",
    "df['Year'] = df['Report_Date'].dt.year\n",
    "if len(df['Year'].unique()) > 1:\n",
    "    for year in sorted(df['Year'].unique())[1:]:\n",
    "        current_year_avg = df[df['Year'] == year]['Number of Sessions'].mean()\n",
    "        prev_year_avg = df[df['Year'] == year-1]['Number of Sessions'].mean()\n",
    "        if not pd.isna(current_year_avg) and not pd.isna(prev_year_avg):\n",
    "            growth = ((current_year_avg - prev_year_avg) / prev_year_avg) * 100\n",
    "            print(f\"• {year-1} to {year} average growth: {growth:+.1f}%\")\n",
    "\n",
    "# Seasonal patterns\n",
    "df['Month'] = df['Report_Date'].dt.month\n",
    "monthly_avg = df.groupby('Month')['Number of Sessions'].mean()\n",
    "peak_month = monthly_avg.idxmax()\n",
    "low_month = monthly_avg.idxmin()\n",
    "month_names = ['', 'Jan', 'Feb', 'Mar', 'Apr', 'May', 'Jun',\n",
    "               'Jul', 'Aug', 'Sep', 'Oct', 'Nov', 'Dec']\n",
    "print(f\"• Peak usage month: {month_names[peak_month]} ({monthly_avg[peak_month]:,.0f} avg sessions)\")\n",
    "print(f\"• Lowest usage month: {month_names[low_month]} ({monthly_avg[low_month]:,.0f} avg sessions)\")"
   ]
  },
  {
   "cell_type": "markdown",
   "metadata": {},
   "source": [
    "## Visualizations"
   ]
  },
  {
   "cell_type": "code",
   "execution_count": null,
   "metadata": {},
   "outputs": [],
   "source": [
    "# Create comprehensive visualizations\n",
    "fig, axes = plt.subplots(2, 2, figsize=(15, 12))\n",
    "fig.suptitle('LinkNYC Weekly Usage Data Analysis', fontsize=16, fontweight='bold')\n",
    "\n",
    "# 1. Sessions over time\n",
    "axes[0,0].plot(df['Report_Date'], df['Number of Sessions'], linewidth=2, color='#1f77b4')\n",
    "axes[0,0].set_title('Weekly Sessions Over Time')\n",
    "axes[0,0].set_ylabel('Number of Sessions')\n",
    "axes[0,0].tick_params(axis='x', rotation=45)\n",
    "axes[0,0].grid(True, alpha=0.3)\n",
    "\n",
    "# Add COVID annotation\n",
    "covid_date = pd.to_datetime('2020-03-15')\n",
    "axes[0,0].axvline(x=covid_date, color='red', linestyle='--', alpha=0.7)\n",
    "axes[0,0].text(covid_date, axes[0,0].get_ylim()[1]*0.8, 'COVID-19\\nLockdown', \n",
    "              ha='center', va='center', color='red', fontsize=9)\n",
    "\n",
    "# 2. Data usage over time\n",
    "axes[0,1].plot(df['Report_Date'], df['TB Downloaded'] * 1024, label='Downloaded (GB)', linewidth=2)\n",
    "axes[0,1].plot(df['Report_Date'], df['TB Uploaded'] * 1024, label='Uploaded (GB)', linewidth=2)\n",
    "axes[0,1].set_title('Weekly Data Usage Over Time')\n",
    "axes[0,1].set_ylabel('Data (GB)')\n",
    "axes[0,1].legend()\n",
    "axes[0,1].tick_params(axis='x', rotation=45)\n",
    "axes[0,1].grid(True, alpha=0.3)\n",
    "\n",
    "# 3. Unique clients distribution\n",
    "axes[1,0].hist(df['Number of Unique Clients'], bins=30, alpha=0.7, edgecolor='black', color='green')\n",
    "axes[1,0].set_title('Distribution of Weekly Unique Clients')\n",
    "axes[1,0].set_xlabel('Number of Unique Clients')\n",
    "axes[1,0].set_ylabel('Frequency')\n",
    "axes[1,0].grid(True, alpha=0.3)\n",
    "\n",
    "# 4. Session duration over time\n",
    "axes[1,1].plot(df['Report_Date'], df['Avg_Session_Minutes'], linewidth=2, color='orange')\n",
    "axes[1,1].set_title('Average Session Duration Over Time')\n",
    "axes[1,1].set_ylabel('Duration (minutes)')\n",
    "axes[1,1].tick_params(axis='x', rotation=45)\n",
    "axes[1,1].grid(True, alpha=0.3)\n",
    "\n",
    "plt.tight_layout()\n",
    "plt.show()"
   ]
  },
  {
   "cell_type": "markdown",
   "metadata": {},
   "source": [
    "## Monthly and Yearly Patterns"
   ]
  },
  {
   "cell_type": "code",
   "execution_count": null,
   "metadata": {},
   "outputs": [],
   "source": [
    "# Monthly patterns\n",
    "fig, (ax1, ax2) = plt.subplots(1, 2, figsize=(15, 6))\n",
    "\n",
    "# Monthly averages\n",
    "monthly_avg = df.groupby('Month')['Number of Sessions'].mean()\n",
    "ax1.bar(monthly_avg.index, monthly_avg.values, color='skyblue', edgecolor='navy')\n",
    "ax1.set_title('Average Sessions by Month')\n",
    "ax1.set_xlabel('Month')\n",
    "ax1.set_ylabel('Average Sessions')\n",
    "ax1.set_xticks(range(1, 13))\n",
    "ax1.set_xticklabels(['Jan', 'Feb', 'Mar', 'Apr', 'May', 'Jun',\n",
    "                    'Jul', 'Aug', 'Sep', 'Oct', 'Nov', 'Dec'])\n",
    "ax1.grid(True, alpha=0.3)\n",
    "\n",
    "# Yearly averages\n",
    "yearly_avg = df.groupby('Year')['Number of Sessions'].mean()\n",
    "ax2.bar(yearly_avg.index, yearly_avg.values, color='lightcoral', edgecolor='darkred')\n",
    "ax2.set_title('Average Sessions by Year')\n",
    "ax2.set_xlabel('Year')\n",
    "ax2.set_ylabel('Average Sessions')\n",
    "ax2.grid(True, alpha=0.3)\n",
    "\n",
    "plt.tight_layout()\n",
    "plt.show()"
   ]
  },
  {
   "cell_type": "markdown",
   "metadata": {},
   "source": [
    "## Data Export Summary"
   ]
  },
  {
   "cell_type": "code",
   "execution_count": null,
   "metadata": {},
   "outputs": [],
   "source": [
    "print(\"\\n\" + \"=\"*60)\n",
    "print(\"ANALYSIS SUMMARY\")\n",
    "print(\"=\"*60)\n",
    "print(f\"Analysis completed: {datetime.now().strftime('%Y-%m-%d %H:%M:%S')}\")\n",
    "print(f\"Dataset: LinkNYC Weekly Usage Data\")\n",
    "print(f\"Records analyzed: {len(df):,}\")\n",
    "print(f\"Time period: {df['Report_Date'].min().strftime('%Y-%m-%d')} to {df['Report_Date'].max().strftime('%Y-%m-%d')}\")\n",
    "print(f\"Key finding: {'COVID-19 significantly impacted usage patterns' if covid_period < pre_covid * 0.5 else 'Steady usage patterns throughout period'}\")"
   ]
  }
 ],
 "metadata": {
  "kernelspec": {
   "display_name": "Python 3",
   "language": "python",
   "name": "python3"
  },
  "language_info": {
   "codemirror_mode": {
    "name": "ipython",
    "version": 3
   },
   "file_extension": ".py",
   "mimetype": "text/x-python",
   "name": "python",
   "nbconvert_exporter": "python",
   "pygments_lexer": "ipython3",
   "version": "3.8.5"
  }
 },
 "nbformat": 4,
 "nbformat_minor": 4
}