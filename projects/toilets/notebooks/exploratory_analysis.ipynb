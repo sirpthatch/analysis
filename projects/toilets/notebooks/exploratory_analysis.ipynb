{
 "cells": [
  {
   "cell_type": "markdown",
   "metadata": {},
   "source": [
    "# Exploratory Data Analysis\n",
    "\n",
    "This notebook provides a template for performing exploratory data analysis on your datasets."
   ]
  },
  {
   "cell_type": "code",
   "execution_count": 1,
   "metadata": {},
   "outputs": [],
   "source": [
    "# Import necessary libraries\n",
    "import pandas as pd\n",
    "import numpy as np\n",
    "import matplotlib.pyplot as plt\n",
    "import seaborn as sns\n",
    "from pathlib import Path\n",
    "import sys\n",
    "\n",
    "# Add src directory to path to import custom modules\n",
    "sys.path.append('../src')\n",
    "from data_loader import load_csv, load_excel, get_data_info\n",
    "from analysis import (\n",
    "    set_plot_style, explore_distributions, correlation_analysis,\n",
    "    outlier_detection, create_boxplots, categorical_analysis\n",
    ")\n",
    "\n",
    "# Set plotting style\n",
    "set_plot_style()\n",
    "\n",
    "# Display all columns in pandas\n",
    "pd.set_option('display.max_columns', None)\n",
    "pd.set_option('display.width', None)\n",
    "pd.set_option('display.max_colwidth', None)"
   ]
  },
  {
   "cell_type": "code",
   "execution_count": 13,
   "metadata": {},
   "outputs": [
    {
     "name": "stdout",
     "output_type": "stream",
     "text": [
      "Index(['ACQUISITIONDATE', 'ACRES', 'ADDRESS', 'BOROUGH', 'CLASS',\n",
      "       'COMMUNITYBOARD', 'COUNCILDISTRICT', 'DEPARTMENT', 'EAPPLY', 'GISOBJID',\n",
      "       'GISPROPNUM', 'GlobalID', 'JURISDICTION', 'LOCATION', 'MAPPED',\n",
      "       'NAME311', 'NYS_ASSEMBLY', 'NYS_SENATE', 'OBJECTID', 'OMPPROPID',\n",
      "       'PARENTID', 'PERMIT', 'PERMITDISTRICT', 'PERMITPARENT', 'PIP_RATABLE',\n",
      "       'PRECINCT', 'RETIRED', 'SIGNNAME', 'SUBCATEGORY', 'TYPECATEGORY',\n",
      "       'US_CONGRESS', 'WATERFRONT', 'ZIPCODE', 'multipolygon'],\n",
      "      dtype='object')\n"
     ]
    },
    {
     "data": {
      "text/html": [
       "<div>\n",
       "<style scoped>\n",
       "    .dataframe tbody tr th:only-of-type {\n",
       "        vertical-align: middle;\n",
       "    }\n",
       "\n",
       "    .dataframe tbody tr th {\n",
       "        vertical-align: top;\n",
       "    }\n",
       "\n",
       "    .dataframe thead th {\n",
       "        text-align: right;\n",
       "    }\n",
       "</style>\n",
       "<table border=\"1\" class=\"dataframe\">\n",
       "  <thead>\n",
       "    <tr style=\"text-align: right;\">\n",
       "      <th></th>\n",
       "      <th>ADDRESS</th>\n",
       "      <th>BOROUGH</th>\n",
       "      <th>ZIPCODE</th>\n",
       "      <th>LOCATION</th>\n",
       "    </tr>\n",
       "  </thead>\n",
       "  <tbody>\n",
       "    <tr>\n",
       "      <th>0</th>\n",
       "      <td>88-02 ATLANTIC AVENUE</td>\n",
       "      <td>Q</td>\n",
       "      <td>11416</td>\n",
       "      <td>Atlantic Ave., 95 Ave. bet. 88 St., 89 St.</td>\n",
       "    </tr>\n",
       "    <tr>\n",
       "      <th>1</th>\n",
       "      <td>3324 RESERVOIR OVAL EAST</td>\n",
       "      <td>X</td>\n",
       "      <td>10467</td>\n",
       "      <td>Van Cortlandt Ave. East, Resevoir Oval E</td>\n",
       "    </tr>\n",
       "    <tr>\n",
       "      <th>2</th>\n",
       "      <td>NaN</td>\n",
       "      <td>Q</td>\n",
       "      <td>11417</td>\n",
       "      <td>133 Ave. bet. 82 St. and 86 St.</td>\n",
       "    </tr>\n",
       "    <tr>\n",
       "      <th>3</th>\n",
       "      <td>NaN</td>\n",
       "      <td>M</td>\n",
       "      <td>10024, 10025</td>\n",
       "      <td>Riverside Dr., W. 91 St. To W. 95 St.</td>\n",
       "    </tr>\n",
       "    <tr>\n",
       "      <th>4</th>\n",
       "      <td>675 RIVERSIDE DRIVE</td>\n",
       "      <td>M</td>\n",
       "      <td>10027, 10031</td>\n",
       "      <td>Riverside Dr to Henry Hudson Pkwy, W 153 St</td>\n",
       "    </tr>\n",
       "  </tbody>\n",
       "</table>\n",
       "</div>"
      ],
      "text/plain": [
       "                    ADDRESS BOROUGH       ZIPCODE  \\\n",
       "0     88-02 ATLANTIC AVENUE       Q         11416   \n",
       "1  3324 RESERVOIR OVAL EAST       X         10467   \n",
       "2                       NaN       Q         11417   \n",
       "3                       NaN       M  10024, 10025   \n",
       "4       675 RIVERSIDE DRIVE       M  10027, 10031   \n",
       "\n",
       "                                      LOCATION  \n",
       "0   Atlantic Ave., 95 Ave. bet. 88 St., 89 St.  \n",
       "1     Van Cortlandt Ave. East, Resevoir Oval E  \n",
       "2              133 Ave. bet. 82 St. and 86 St.  \n",
       "3        Riverside Dr., W. 91 St. To W. 95 St.  \n",
       "4  Riverside Dr to Henry Hudson Pkwy, W 153 St  "
      ]
     },
     "execution_count": 13,
     "metadata": {},
     "output_type": "execute_result"
    }
   ],
   "source": [
    "df = pd.read_csv(\"../data/ext_data/parks_properties_20250929.csv\")\n",
    "print(df.columns)\n",
    "df[['ADDRESS','BOROUGH','ZIPCODE','LOCATION']].head()\n"
   ]
  },
  {
   "cell_type": "code",
   "execution_count": null,
   "metadata": {},
   "outputs": [],
   "source": [
    "df = pd.read_csv(\"../data/ext_data/directory_of_toilets_.csv\")\n",
    "print(df.columns)\n",
    "df[['ADDRESS','BOROUGH','ZIPCODE','LOCATION']].head()"
   ]
  },
  {
   "cell_type": "markdown",
   "metadata": {},
   "source": [
    "## 2. Dataset Overview"
   ]
  },
  {
   "cell_type": "code",
   "execution_count": null,
   "metadata": {},
   "outputs": [],
   "source": [
    "# Get comprehensive dataset information\n",
    "get_data_info(df)"
   ]
  },
  {
   "cell_type": "markdown",
   "metadata": {},
   "source": [
    "## 3. Distribution Analysis\n",
    "\n",
    "Explore the distributions of numeric variables."
   ]
  },
  {
   "cell_type": "code",
   "execution_count": null,
   "metadata": {},
   "outputs": [],
   "source": [
    "# Explore distributions of numeric columns\n",
    "numeric_columns = df.select_dtypes(include=[np.number]).columns.tolist()\n",
    "if 'id' in numeric_columns:\n",
    "    numeric_columns.remove('id')  # Remove ID column if present\n",
    "\n",
    "explore_distributions(df, columns=numeric_columns)"
   ]
  },
  {
   "cell_type": "markdown",
   "metadata": {},
   "source": [
    "## 4. Correlation Analysis"
   ]
  },
  {
   "cell_type": "code",
   "execution_count": null,
   "metadata": {},
   "outputs": [],
   "source": [
    "# Analyze correlations between numeric variables\n",
    "corr_matrix = correlation_analysis(df)\n",
    "\n",
    "# Show strongest correlations\n",
    "if not corr_matrix.empty:\n",
    "    print(\"\\nStrongest correlations (excluding self-correlations):\")\n",
    "    corr_pairs = []\n",
    "    for i in range(len(corr_matrix.columns)):\n",
    "        for j in range(i+1, len(corr_matrix.columns)):\n",
    "            corr_pairs.append((\n",
    "                corr_matrix.columns[i],\n",
    "                corr_matrix.columns[j],\n",
    "                corr_matrix.iloc[i, j]\n",
    "            ))\n",
    "    \n",
    "    corr_pairs_df = pd.DataFrame(corr_pairs, columns=['Var1', 'Var2', 'Correlation'])\n",
    "    corr_pairs_df = corr_pairs_df.reindex(\n",
    "        corr_pairs_df['Correlation'].abs().sort_values(ascending=False).index\n",
    "    )\n",
    "    print(corr_pairs_df.head(10))"
   ]
  },
  {
   "cell_type": "markdown",
   "metadata": {},
   "source": [
    "## 5. Outlier Detection"
   ]
  },
  {
   "cell_type": "code",
   "execution_count": null,
   "metadata": {},
   "outputs": [],
   "source": [
    "# Detect outliers using IQR method\n",
    "outlier_df = outlier_detection(df, columns=numeric_columns, method='iqr')\n",
    "\n",
    "# Count outliers by column\n",
    "outlier_columns = [col for col in outlier_df.columns if col.endswith('_outlier')]\n",
    "outlier_summary = outlier_df[outlier_columns].sum().sort_values(ascending=False)\n",
    "print(\"Outlier counts by column:\")\n",
    "print(outlier_summary)\n",
    "\n",
    "# Visualize outliers with box plots\n",
    "create_boxplots(df, columns=numeric_columns)"
   ]
  },
  {
   "cell_type": "markdown",
   "metadata": {},
   "source": [
    "## 6. Categorical Variable Analysis"
   ]
  },
  {
   "cell_type": "code",
   "execution_count": null,
   "metadata": {},
   "outputs": [],
   "source": [
    "# Analyze categorical variables\n",
    "categorical_analysis(df, max_categories=20)"
   ]
  },
  {
   "cell_type": "markdown",
   "metadata": {},
   "source": [
    "## 7. Relationships Between Variables\n",
    "\n",
    "Explore relationships between different types of variables."
   ]
  },
  {
   "cell_type": "code",
   "execution_count": null,
   "metadata": {},
   "outputs": [],
   "source": [
    "# Example: Numeric vs Categorical relationships\n",
    "categorical_cols = df.select_dtypes(include=['object', 'category']).columns\n",
    "\n",
    "if len(categorical_cols) > 0 and len(numeric_columns) > 0:\n",
    "    # Pick first categorical and first numeric column for demonstration\n",
    "    cat_col = categorical_cols[0]\n",
    "    num_col = numeric_columns[0]\n",
    "    \n",
    "    plt.figure(figsize=(12, 6))\n",
    "    \n",
    "    # Box plot\n",
    "    plt.subplot(1, 2, 1)\n",
    "    sns.boxplot(data=df, x=cat_col, y=num_col)\n",
    "    plt.title(f'{num_col} by {cat_col}')\n",
    "    plt.xticks(rotation=45)\n",
    "    \n",
    "    # Violin plot\n",
    "    plt.subplot(1, 2, 2)\n",
    "    sns.violinplot(data=df, x=cat_col, y=num_col)\n",
    "    plt.title(f'{num_col} by {cat_col} (Violin Plot)')\n",
    "    plt.xticks(rotation=45)\n",
    "    \n",
    "    plt.tight_layout()\n",
    "    plt.show()"
   ]
  },
  {
   "cell_type": "markdown",
   "metadata": {},
   "source": [
    "## 8. Summary and Next Steps\n",
    "\n",
    "Based on the exploratory analysis, document your key findings and next steps."
   ]
  },
  {
   "cell_type": "markdown",
   "metadata": {},
   "source": [
    "### Key Findings:\n",
    "1. Dataset contains X rows and Y columns\n",
    "2. Missing values found in: [list columns]\n",
    "3. Outliers detected in: [list columns]\n",
    "4. Strong correlations between: [list variable pairs]\n",
    "5. Categorical variables distribution: [describe patterns]\n",
    "\n",
    "### Next Steps:\n",
    "1. Data cleaning and preprocessing\n",
    "2. Feature engineering based on findings\n",
    "3. Model selection and training\n",
    "4. Further analysis of specific relationships\n",
    "\n",
    "### Questions for Further Investigation:\n",
    "1. [Add questions based on your findings]\n",
    "2. [Continue list as needed]"
   ]
  }
 ],
 "metadata": {
  "kernelspec": {
   "display_name": "venv",
   "language": "python",
   "name": "python3"
  },
  "language_info": {
   "codemirror_mode": {
    "name": "ipython",
    "version": 3
   },
   "file_extension": ".py",
   "mimetype": "text/x-python",
   "name": "python",
   "nbconvert_exporter": "python",
   "pygments_lexer": "ipython3",
   "version": "3.13.7"
  }
 },
 "nbformat": 4,
 "nbformat_minor": 4
}
